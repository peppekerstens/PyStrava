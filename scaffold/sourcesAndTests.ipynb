{
 "cells": [
  {
   "cell_type": "code",
   "execution_count": null,
   "metadata": {},
   "outputs": [],
   "source": []
  },
  {
   "cell_type": "markdown",
   "metadata": {},
   "source": [
    "Sources\n",
    "https://www.grace-dev.com/python-apis/strava-api/\n",
    "https://developers.strava.com/\n",
    "https://developers.strava.com/docs/reference/\n",
    "https://github.com/stravalib/stravalib\n",
    "https://stravalib.readthedocs.io/\n"
   ]
  },
  {
   "cell_type": "markdown",
   "metadata": {},
   "source": [
    "goal\n",
    "1. get data from strava\n",
    "2. analyse heartrate versus watt (per session)\n",
    "3. put results in a (dynamic) chart\n",
    "4. publish in a website (may be github)\n",
    "\n",
    "optional (no order)\n",
    "- make things more dynamic\n",
    "- get results for/from others (add login option?)\n",
    "- analyse heartrate versus watt (per moment)\n",
    "- analyse peakwatt versus heartarte (bandwidth measurement?)\n",
    "- create api like functionality\n",
    "- create full website \n"
   ]
  }
 ],
 "metadata": {
  "language_info": {
   "name": "python"
  },
  "orig_nbformat": 4
 },
 "nbformat": 4,
 "nbformat_minor": 2
}
